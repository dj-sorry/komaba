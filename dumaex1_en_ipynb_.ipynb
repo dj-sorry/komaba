{
  "nbformat": 4,
  "nbformat_minor": 0,
  "metadata": {
    "judge_submission": {
      "exercises": {
        "ex1-1-classify_triangle": "2666d80871ea0ab9864f77a32fd0a04711b0ad73"
      },
      "extraction": true
    },
    "kernelspec": {
      "display_name": "Python 3",
      "language": "python",
      "name": "python3"
    },
    "language_info": {
      "name": ""
    },
    "colab": {
      "name": "dumaex1.en.ipynb\"",
      "provenance": []
    }
  },
  "cells": [
    {
      "cell_type": "markdown",
      "metadata": {
        "id": "JqMioo8vhXm2"
      },
      "source": [
        "# Exercises 1"
      ]
    },
    {
      "cell_type": "markdown",
      "metadata": {
        "id": "nWHlJIy0hXm3"
      },
      "source": [
        "## Ex1-1. Classifying a triangle.\n",
        "\n",
        "Define a function `triangle(a,b,c)`, which takes three positive side lengths $a$, $b$, $c$ of a triangle as arguments, and returns the following values:\n",
        "* 0 if the three side lengths do not satisfy the triangle inequality,\n",
        "* 1 if the three side lengths form an acute triangle,\n",
        "* 2 if the three side lengths form a right triangle,\n",
        "* 3 if the three side lengths form an obtuse triangle.\n",
        "\n",
        "Complete the definition of `classify_triangle(a, b, c)` by filling the `...` part of the following code cell."
      ]
    },
    {
      "cell_type": "code",
      "metadata": {
        "id": "YWOqdr-fhXm4"
      },
      "source": [
        "##########################################################\n",
        "##  <[ ex1-1-classify_triangle ]> 解答セル (Answer cell)\n",
        "##  このコメントの書き変えを禁ず (Never edit this comment)\n",
        "##########################################################\n",
        "\n",
        "def classify_triangle(a, b, c):\n",
        "    ..."
      ],
      "execution_count": null,
      "outputs": []
    },
    {
      "cell_type": "markdown",
      "metadata": {
        "id": "G11McMy1hXm7"
      },
      "source": [
        "Before submission, execute the following test cell and check if only `True` is printed."
      ]
    },
    {
      "cell_type": "code",
      "metadata": {
        "id": "HB3MuohnhXm8"
      },
      "source": [
        "print(classify_triangle(3,6,5) == 3)\n",
        "print(classify_triangle(3,4,5) == 2)\n",
        "print(classify_triangle(4,3,3) == 1)\n",
        "print(classify_triangle(1,1,3) == 0)\n",
        "print(classify_triangle(1,2,1) == 0)\n",
        "print(classify_triangle(3,2,1) == 0)"
      ],
      "execution_count": null,
      "outputs": []
    }
  ]
}